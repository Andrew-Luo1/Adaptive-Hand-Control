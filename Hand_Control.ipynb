{
 "cells": [
  {
   "cell_type": "code",
   "execution_count": 1,
   "metadata": {},
   "outputs": [
    {
     "name": "stdout",
     "output_type": "stream",
     "text": [
      "faillled\n"
     ]
    },
    {
     "ename": "ImportError",
     "evalue": "cannot import name 'PROSTHETIC_HAND' from 'abr_control.interfaces' (/home/andrew/Desktop/SYDE556_Final_Project/abr_control/abr_control/interfaces/__init__.py)",
     "output_type": "error",
     "traceback": [
      "\u001b[0;31m---------------------------------------------------------------------------\u001b[0m",
      "\u001b[0;31mImportError\u001b[0m                               Traceback (most recent call last)",
      "\u001b[0;32m<ipython-input-1-f73291eb9456>\u001b[0m in \u001b[0;36m<module>\u001b[0;34m\u001b[0m\n\u001b[1;32m      1\u001b[0m \u001b[0;32mfrom\u001b[0m \u001b[0mabr_control\u001b[0m\u001b[0;34m.\u001b[0m\u001b[0marms\u001b[0m \u001b[0;32mimport\u001b[0m \u001b[0mjaco2\u001b[0m\u001b[0;34m\u001b[0m\u001b[0;34m\u001b[0m\u001b[0m\n\u001b[1;32m      2\u001b[0m \u001b[0;32mfrom\u001b[0m \u001b[0mabr_control\u001b[0m\u001b[0;34m.\u001b[0m\u001b[0mcontrollers\u001b[0m \u001b[0;32mimport\u001b[0m \u001b[0mOSC\u001b[0m\u001b[0;34m\u001b[0m\u001b[0;34m\u001b[0m\u001b[0m\n\u001b[0;32m----> 3\u001b[0;31m \u001b[0;32mfrom\u001b[0m \u001b[0mabr_control\u001b[0m\u001b[0;34m.\u001b[0m\u001b[0minterfaces\u001b[0m \u001b[0;32mimport\u001b[0m \u001b[0mPROSTHETIC_HAND\u001b[0m\u001b[0;34m\u001b[0m\u001b[0;34m\u001b[0m\u001b[0m\n\u001b[0m\u001b[1;32m      4\u001b[0m \u001b[0;34m\u001b[0m\u001b[0m\n\u001b[1;32m      5\u001b[0m \u001b[0;34m\u001b[0m\u001b[0m\n",
      "\u001b[0;31mImportError\u001b[0m: cannot import name 'PROSTHETIC_HAND' from 'abr_control.interfaces' (/home/andrew/Desktop/SYDE556_Final_Project/abr_control/abr_control/interfaces/__init__.py)"
     ]
    }
   ],
   "source": [
    "from abr_control.arms import jaco2\n",
    "from abr_control.controllers import OSC\n",
    "from abr_control.interfaces import PROSTHETIC_HAND\n",
    "\n",
    "\n",
    "# robot_config = jaco2.Config()\n",
    "# ctrlr = OSC(robot_config)\n",
    "# interface = PROSTHETIC_HAND(robot_config)\n",
    "\n",
    "# interface.connect()\n",
    "\n",
    "# target_xyz = [.2, .2, .5]  # in metres\n",
    "# for ii in range(1000):\n",
    "#     feedback = interface.get_feedback()  # returns a dictionary with q, dq\n",
    "#     u = ctrlr.generate(feedback['q'], feedback['dq'], target_xyz)\n",
    "#     interface.send_forces(u)  # send forces and step VREP sim forward\n",
    "\n",
    "# interface.disconnect()"
   ]
  },
  {
   "cell_type": "code",
   "execution_count": null,
   "metadata": {},
   "outputs": [],
   "source": []
  }
 ],
 "metadata": {
  "kernelspec": {
   "display_name": "Python 3",
   "language": "python",
   "name": "python3"
  },
  "language_info": {
   "codemirror_mode": {
    "name": "ipython",
    "version": 3
   },
   "file_extension": ".py",
   "mimetype": "text/x-python",
   "name": "python",
   "nbconvert_exporter": "python",
   "pygments_lexer": "ipython3",
   "version": "3.7.1"
  }
 },
 "nbformat": 4,
 "nbformat_minor": 2
}
